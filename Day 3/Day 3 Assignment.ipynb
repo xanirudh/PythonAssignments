{
 "cells": [
  {
   "cell_type": "markdown",
   "metadata": {},
   "source": [
    "# Sum of n terms using while loop"
   ]
  },
  {
   "cell_type": "code",
   "execution_count": null,
   "metadata": {},
   "outputs": [],
   "source": [
    "userinput = eval(input(\"Please enter a number to find sum upto n terms \"))\n",
    "i = 0\n",
    "sum1 = 0\n",
    "while i<=userinput:\n",
    "    sum1 = sum1 + i\n",
    "    i = i + 1\n",
    "print(\"The sum is \", sum1)\n"
   ]
  },
  {
   "cell_type": "markdown",
   "metadata": {},
   "source": [
    "# Checking Integer wheather its prime or not"
   ]
  },
  {
   "cell_type": "code",
   "execution_count": null,
   "metadata": {},
   "outputs": [],
   "source": [
    "num = int(input(\"Enter a number: \"))  \n",
    "  \n",
    "if num==2:\n",
    "    print(num,\"is a prime number\")  \n",
    "else:\n",
    "    for i in range(2,num):  \n",
    "           if (num % i) == 0:  \n",
    "               print(num,\"is not a prime number\")  \n",
    "               break  \n",
    "           else:  \n",
    "               print(num,\"is a prime number\")\n",
    "               break"
   ]
  },
  {
   "cell_type": "code",
   "execution_count": null,
   "metadata": {},
   "outputs": [],
   "source": []
  }
 ],
 "metadata": {
  "kernelspec": {
   "display_name": "Python 3",
   "language": "python",
   "name": "python3"
  },
  "language_info": {
   "codemirror_mode": {
    "name": "ipython",
    "version": 3
   },
   "file_extension": ".py",
   "mimetype": "text/x-python",
   "name": "python",
   "nbconvert_exporter": "python",
   "pygments_lexer": "ipython3",
   "version": "3.7.6"
  }
 },
 "nbformat": 4,
 "nbformat_minor": 4
}
