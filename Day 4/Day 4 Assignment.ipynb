{
 "cells": [
  {
   "cell_type": "markdown",
   "metadata": {},
   "source": [
    "# Day 4 Assignment"
   ]
  },
  {
   "cell_type": "markdown",
   "metadata": {},
   "source": [
    "# Answer 1"
   ]
  },
  {
   "cell_type": "code",
   "execution_count": 3,
   "metadata": {},
   "outputs": [
    {
     "name": "stdout",
     "output_type": "stream",
     "text": [
      "Please enter any substring to print its index value's => we\n",
      "5\n",
      "14\n",
      "25\n"
     ]
    }
   ],
   "source": [
    "a = \"what we think we become; we are Python programmer\"\n",
    "userinput = input(\"Please enter any substring to print its index value's => \")\n",
    "list1 = a.split(\" \")\n",
    "b = 0\n",
    "c = 0\n",
    "for each in list1:\n",
    "    if each == userinput:\n",
    "        b = a.find(each, c, len(a)-1)\n",
    "        print(b)\n",
    "        c = b + len(userinput)"
   ]
  },
  {
   "cell_type": "markdown",
   "metadata": {},
   "source": [
    "# Answer 2"
   ]
  },
  {
   "cell_type": "markdown",
   "metadata": {},
   "source": [
    "Python isupper() method returns “True” if all the characters in the string are uppercase; otherwise, It returns “False.”"
   ]
  },
  {
   "cell_type": "markdown",
   "metadata": {},
   "source": [
    "Python islower() method returns “True” if all the characters in the string are lowercase; otherwise, it returns “False.”"
   ]
  },
  {
   "cell_type": "markdown",
   "metadata": {},
   "source": [
    "Example:"
   ]
  },
  {
   "cell_type": "code",
   "execution_count": 10,
   "metadata": {},
   "outputs": [
    {
     "name": "stdout",
     "output_type": "stream",
     "text": [
      "True\n",
      "False\n",
      "True\n",
      "True\n"
     ]
    }
   ],
   "source": [
    "str1 = \"WE ARE IN THE END GAME NOW\"\n",
    "str2 = \"We are in the end GAME NOW\"\n",
    "str3 = \"GGDGHH123\"\n",
    "str4 = \"we are in the end game now\"\n",
    "\n",
    "print(str1.isupper())\n",
    "print(str2.isupper())\n",
    "print(str3.isupper())\n",
    "print(str4.islower())\n"
   ]
  },
  {
   "cell_type": "code",
   "execution_count": null,
   "metadata": {},
   "outputs": [],
   "source": []
  }
 ],
 "metadata": {
  "kernelspec": {
   "display_name": "Python 3",
   "language": "python",
   "name": "python3"
  },
  "language_info": {
   "codemirror_mode": {
    "name": "ipython",
    "version": 3
   },
   "file_extension": ".py",
   "mimetype": "text/x-python",
   "name": "python",
   "nbconvert_exporter": "python",
   "pygments_lexer": "ipython3",
   "version": "3.7.6"
  }
 },
 "nbformat": 4,
 "nbformat_minor": 4
}
