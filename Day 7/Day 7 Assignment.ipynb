{
 "cells": [
  {
   "cell_type": "markdown",
   "metadata": {},
   "source": [
    "# Day 7 Assignment"
   ]
  },
  {
   "cell_type": "markdown",
   "metadata": {},
   "source": [
    "# Question 1"
   ]
  },
  {
   "cell_type": "markdown",
   "metadata": {},
   "source": [
    "Use the dictionary,\n",
    "    port1 = {21: \"FTP\", 22:\"SSH\", 23: \"telnet\", 80: \"http\"},\n",
    "and make a new dictionary in which keys become values and values become keys,\n",
    "    as shown: Port2 = {“FTP\":21, \"SSH\":22, “telnet\":23,\"http\": 80}\n"
   ]
  },
  {
   "cell_type": "code",
   "execution_count": 43,
   "metadata": {},
   "outputs": [
    {
     "name": "stdout",
     "output_type": "stream",
     "text": [
      "{'FTP': 21, 'SSH': 22, 'telnet': 23, 'http': 80}\n"
     ]
    }
   ],
   "source": [
    "port1 = {21: \"FTP\", 22:\"SSH\", 23: \"telnet\", 80: \"http\"}\n",
    "\n",
    "port1copy = port1.copy()\n",
    "keys = port1copy.keys()\n",
    "mydict={}\n",
    "\n",
    "for each in keys:\n",
    "    res= port1.pop(each)\n",
    "    mydict[res] = each\n",
    "#     mydict.update({res:each})\n",
    "\n",
    "print(mydict)"
   ]
  },
  {
   "cell_type": "markdown",
   "metadata": {},
   "source": [
    "# Question 2"
   ]
  },
  {
   "cell_type": "markdown",
   "metadata": {},
   "source": [
    "Take a list of tuple as shown below.\n",
    "[(1,2), (3,4), (5,6),(4,5)]\n",
    "Make a new list which contains the sum of the number of tuples."
   ]
  },
  {
   "cell_type": "code",
   "execution_count": 71,
   "metadata": {},
   "outputs": [
    {
     "name": "stdout",
     "output_type": "stream",
     "text": [
      "[3, 7, 11]\n"
     ]
    }
   ],
   "source": [
    "list1=[(1,2), (3,4), (5,6)]\n",
    "mylist=[]\n",
    "\n",
    "for each in list1:\n",
    "    ind = list1.index(each)\n",
    "    tup = list1[ind]\n",
    "    a,b = tup\n",
    "    c = a + b\n",
    "    mylist.append(c)\n",
    "    \n",
    "print(mylist)\n",
    "    \n",
    "\n"
   ]
  },
  {
   "cell_type": "code",
   "execution_count": null,
   "metadata": {},
   "outputs": [],
   "source": []
  }
 ],
 "metadata": {
  "kernelspec": {
   "display_name": "Python 3",
   "language": "python",
   "name": "python3"
  },
  "language_info": {
   "codemirror_mode": {
    "name": "ipython",
    "version": 3
   },
   "file_extension": ".py",
   "mimetype": "text/x-python",
   "name": "python",
   "nbconvert_exporter": "python",
   "pygments_lexer": "ipython3",
   "version": "3.7.6"
  }
 },
 "nbformat": 4,
 "nbformat_minor": 4
}
